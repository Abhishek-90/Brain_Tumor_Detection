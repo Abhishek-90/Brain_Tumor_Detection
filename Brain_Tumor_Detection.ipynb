{
 "cells": [
  {
   "cell_type": "code",
   "execution_count": 48,
   "metadata": {},
   "outputs": [],
   "source": [
    "# ------------ importing packages ----------\n",
    "import cv2\n",
    "import glob\n",
    "import os\n",
    "import numpy as np"
   ]
  },
  {
   "cell_type": "code",
   "execution_count": 49,
   "metadata": {},
   "outputs": [],
   "source": [
    "# ------- import images ------------------\n",
    "filename = glob.glob('augmented data/yes/*.jpg')\n",
    "X_yes = []\n",
    "for file in filename:\n",
    "    image = cv2.imread(file)\n",
    "    row = [image, np.array(1)]\n",
    "    X_yes.append(row)\n",
    "X_yes = np.array(X_yes)\n",
    "\n",
    "filename = glob.glob('augmented data/no/*.jpg')\n",
    "X_no = []\n",
    "for file in filename:\n",
    "    image = cv2.imread(file)\n",
    "    row = [image, np.array(0)]\n",
    "    X_no.append(row)\n",
    "X_no = np.array(X_no)"
   ]
  },
  {
   "cell_type": "code",
   "execution_count": 51,
   "metadata": {},
   "outputs": [
    {
     "name": "stdout",
     "output_type": "stream",
     "text": [
      "(1085, 2) (980, 2)\n"
     ]
    }
   ],
   "source": [
    "# print(X_yes.ndim)\n",
    "print(X_yes.shape, X_no.shape)"
   ]
  },
  {
   "cell_type": "code",
   "execution_count": null,
   "metadata": {},
   "outputs": [],
   "source": []
  }
 ],
 "metadata": {
  "kernelspec": {
   "display_name": "Python 3",
   "language": "python",
   "name": "python3"
  },
  "language_info": {
   "codemirror_mode": {
    "name": "ipython",
    "version": 3
   },
   "file_extension": ".py",
   "mimetype": "text/x-python",
   "name": "python",
   "nbconvert_exporter": "python",
   "pygments_lexer": "ipython3",
   "version": "3.8.3"
  }
 },
 "nbformat": 4,
 "nbformat_minor": 4
}
